{
 "cells": [
  {
   "cell_type": "markdown",
   "metadata": {},
   "source": [
    "##조건문"
   ]
  },
  {
   "cell_type": "code",
   "execution_count": null,
   "metadata": {},
   "outputs": [],
   "source": [
    "# 양수 판별\n",
    "n = int(input('정수 입력> '))"
   ]
  },
  {
   "cell_type": "code",
   "execution_count": 2,
   "metadata": {},
   "outputs": [
    {
     "name": "stdout",
     "output_type": "stream",
     "text": [
      "0 은/는 0 또는 음수입니다.\n"
     ]
    }
   ],
   "source": [
    "if n > 0:\n",
    "    print('%d 은/는 양수입니다.' % n)\n",
    "else:\n",
    "    print('%d 은/는 0 또는 음수입니다.' % n)"
   ]
  },
  {
   "cell_type": "code",
   "execution_count": 3,
   "metadata": {},
   "outputs": [
    {
     "name": "stdout",
     "output_type": "stream",
     "text": [
      "필기 성적> 85\n",
      "실기 성적> 75\n"
     ]
    }
   ],
   "source": [
    "# 논리 곱\n",
    "score1 = int(input('필기 성적> '))\n",
    "score2 = int(input('실기 성적> '))"
   ]
  },
  {
   "cell_type": "code",
   "execution_count": 4,
   "metadata": {},
   "outputs": [
    {
     "name": "stdout",
     "output_type": "stream",
     "text": [
      "불합격!\n"
     ]
    }
   ],
   "source": [
    "\n",
    "if (score1 >= 80) and (score2 >= 80):\n",
    "    print('합격!')\n",
    "else:\n",
    "    print('불합격!')"
   ]
  },
  {
   "cell_type": "code",
   "execution_count": 5,
   "metadata": {},
   "outputs": [
    {
     "name": "stdout",
     "output_type": "stream",
     "text": [
      "이름 입력> james\n"
     ]
    }
   ],
   "source": [
    "# 논리 부정\n",
    "name = None\n",
    "name = input('이름 입력> ')"
   ]
  },
  {
   "cell_type": "code",
   "execution_count": 6,
   "metadata": {},
   "outputs": [
    {
     "name": "stdout",
     "output_type": "stream",
     "text": [
      "입력된 이름: james\n"
     ]
    }
   ],
   "source": [
    "if not name:\n",
    "    print('이름이 입력되지 않았음.')\n",
    "else:\n",
    "    print('입력된 이름: %s' % name)"
   ]
  },
  {
   "cell_type": "code",
   "execution_count": 7,
   "metadata": {},
   "outputs": [
    {
     "name": "stdout",
     "output_type": "stream",
     "text": [
      "정수 입력> 5\n"
     ]
    }
   ],
   "source": [
    "# 양수, 0, 음수 판별\n",
    "n = int(input('정수 입력> '))"
   ]
  },
  {
   "cell_type": "code",
   "execution_count": 8,
   "metadata": {},
   "outputs": [
    {
     "name": "stdout",
     "output_type": "stream",
     "text": [
      "5 은/는 양수입니다.\n"
     ]
    }
   ],
   "source": [
    "if n > 0:\n",
    "    print('%d 은/는 양수입니다.' % n)\n",
    "elif n == 0:\n",
    "    print('0 입니다.')\n",
    "else:\n",
    "    print('%d 은/는 음수입니다.' % n)"
   ]
  },
  {
   "cell_type": "code",
   "execution_count": 9,
   "metadata": {},
   "outputs": [
    {
     "name": "stdout",
     "output_type": "stream",
     "text": [
      "점수> 75\n"
     ]
    }
   ],
   "source": [
    "# 학점\n",
    "score = int(input('점수> '))"
   ]
  },
  {
   "cell_type": "code",
   "execution_count": 10,
   "metadata": {},
   "outputs": [],
   "source": [
    "if score >= 90:\n",
    "    grade = 'A'\n",
    "elif score >= 80:\n",
    "    grade = 'B'\n",
    "elif score >= 70:\n",
    "    grade = 'C'\n",
    "elif score >= 60:\n",
    "    grade = 'D'\n",
    "else:\n",
    "    grade = 'F'"
   ]
  },
  {
   "cell_type": "code",
   "execution_count": 11,
   "metadata": {},
   "outputs": [
    {
     "name": "stdout",
     "output_type": "stream",
     "text": [
      "75 C\n"
     ]
    }
   ],
   "source": [
    "print(score, grade)"
   ]
  },
  {
   "cell_type": "code",
   "execution_count": null,
   "metadata": {},
   "outputs": [],
   "source": [
    "# 세 수의 합과 평균\n",
    "x = int(input('숫자> '))\n",
    "y = int(input('숫자> '))\n",
    "z = int(input('숫자> '))"
   ]
  },
  {
   "cell_type": "code",
   "execution_count": 1,
   "metadata": {},
   "outputs": [
    {
     "name": "stdout",
     "output_type": "stream",
     "text": [
      "세개의 숫자 입력> 35 67 94\n"
     ]
    }
   ],
   "source": [
    "x, y, z = input('세개의 숫자 입력> ').split()"
   ]
  },
  {
   "cell_type": "code",
   "execution_count": 2,
   "metadata": {},
   "outputs": [
    {
     "data": {
      "text/plain": [
       "(35, 67, 94)"
      ]
     },
     "execution_count": 2,
     "metadata": {},
     "output_type": "execute_result"
    }
   ],
   "source": [
    "int(x), int(y), int(z)"
   ]
  },
  {
   "cell_type": "code",
   "execution_count": 3,
   "metadata": {},
   "outputs": [
    {
     "name": "stdout",
     "output_type": "stream",
     "text": [
      "세개의 숫자 입력> 35 56 78\n"
     ]
    },
    {
     "data": {
      "text/plain": [
       "(35, 56, 78)"
      ]
     },
     "execution_count": 3,
     "metadata": {},
     "output_type": "execute_result"
    }
   ],
   "source": [
    "x, y, z = map(int, input('세개의 숫자 입력> ').split())\n",
    "x, y, z"
   ]
  },
  {
   "cell_type": "code",
   "execution_count": 4,
   "metadata": {},
   "outputs": [
    {
     "data": {
      "text/plain": [
       "(169, 56.333333333333336)"
      ]
     },
     "execution_count": 4,
     "metadata": {},
     "output_type": "execute_result"
    }
   ],
   "source": [
    "sum = x + y + z\n",
    "avg = sum / 3\n",
    "sum, avg"
   ]
  },
  {
   "cell_type": "code",
   "execution_count": null,
   "metadata": {},
   "outputs": [],
   "source": [
    "# 만 나이 계산\n",
    "current_year = 2020\n",
    "current_month = 8\n",
    "current_day = 28"
   ]
  },
  {
   "cell_type": "code",
   "execution_count": 5,
   "metadata": {},
   "outputs": [
    {
     "name": "stdout",
     "output_type": "stream",
     "text": [
      "생일 입력> 2000 8 28\n"
     ]
    },
    {
     "data": {
      "text/plain": [
       "(2000, 8, 28)"
      ]
     },
     "execution_count": 5,
     "metadata": {},
     "output_type": "execute_result"
    }
   ],
   "source": [
    "birth_year, birth_month, birth_day = map(int, input('생일 입력> ').split())\n",
    "birth_year, birth_month, birth_day"
   ]
  },
  {
   "cell_type": "code",
   "execution_count": 2,
   "metadata": {},
   "outputs": [
    {
     "ename": "NameError",
     "evalue": "name 'current_month' is not defined",
     "output_type": "error",
     "traceback": [
      "\u001b[1;31m---------------------------------------------------------------------------\u001b[0m",
      "\u001b[1;31mNameError\u001b[0m                                 Traceback (most recent call last)",
      "\u001b[1;32m<ipython-input-2-be928d5b87fa>\u001b[0m in \u001b[0;36m<module>\u001b[1;34m\u001b[0m\n\u001b[1;32m----> 1\u001b[1;33m \u001b[1;32mif\u001b[0m \u001b[0mcurrent_month\u001b[0m \u001b[1;33m>\u001b[0m \u001b[0mbirth_month\u001b[0m\u001b[1;33m:\u001b[0m\u001b[1;33m\u001b[0m\u001b[1;33m\u001b[0m\u001b[0m\n\u001b[0m\u001b[0;32m      2\u001b[0m     \u001b[0mage\u001b[0m \u001b[1;33m=\u001b[0m \u001b[0mcurrent_year\u001b[0m \u001b[1;33m-\u001b[0m \u001b[0mbirth_year\u001b[0m\u001b[1;33m\u001b[0m\u001b[1;33m\u001b[0m\u001b[0m\n\u001b[0;32m      3\u001b[0m \u001b[1;32melif\u001b[0m \u001b[0mcurrent_month\u001b[0m \u001b[1;33m<\u001b[0m \u001b[0mbirth_month\u001b[0m\u001b[1;33m:\u001b[0m\u001b[1;33m\u001b[0m\u001b[1;33m\u001b[0m\u001b[0m\n\u001b[0;32m      4\u001b[0m     \u001b[0mage\u001b[0m \u001b[1;33m=\u001b[0m \u001b[0mcurrent_year\u001b[0m \u001b[1;33m-\u001b[0m \u001b[0mbirth_year\u001b[0m \u001b[1;33m-\u001b[0m \u001b[1;36m1\u001b[0m\u001b[1;33m\u001b[0m\u001b[1;33m\u001b[0m\u001b[0m\n\u001b[0;32m      5\u001b[0m \u001b[1;32melif\u001b[0m \u001b[0mcurrent_day\u001b[0m \u001b[1;33m<\u001b[0m \u001b[0mbirth_day\u001b[0m\u001b[1;33m:\u001b[0m\u001b[1;33m\u001b[0m\u001b[1;33m\u001b[0m\u001b[0m\n",
      "\u001b[1;31mNameError\u001b[0m: name 'current_month' is not defined"
     ]
    }
   ],
   "source": [
    "if current_month > birth_month:\n",
    "    age = current_year - birth_year\n",
    "elif current_month < birth_month:\n",
    "    age = current_year - birth_year - 1\n",
    "elif current_day < birth_day:\n",
    "    age = current_year - birth_year - 1\n",
    "else:\n",
    "    age = current_year - birth_year"
   ]
  },
  {
   "cell_type": "code",
   "execution_count": 1,
   "metadata": {},
   "outputs": [
    {
     "ename": "NameError",
     "evalue": "name 'age' is not defined",
     "output_type": "error",
     "traceback": [
      "\u001b[1;31m---------------------------------------------------------------------------\u001b[0m",
      "\u001b[1;31mNameError\u001b[0m                                 Traceback (most recent call last)",
      "\u001b[1;32m<ipython-input-1-d075b0315d53>\u001b[0m in \u001b[0;36m<module>\u001b[1;34m\u001b[0m\n\u001b[1;32m----> 1\u001b[1;33m \u001b[0mage\u001b[0m\u001b[1;33m\u001b[0m\u001b[1;33m\u001b[0m\u001b[0m\n\u001b[0m",
      "\u001b[1;31mNameError\u001b[0m: name 'age' is not defined"
     ]
    }
   ],
   "source": [
    "age"
   ]
  },
  {
   "cell_type": "code",
   "execution_count": null,
   "metadata": {},
   "outputs": [],
   "source": [
    "if current_month > birth_month:            # 현재월 > 생월\n",
    "    age = current_year - birth_year\n",
    "elif current_month < birth_month:          # 현재월 < 생월\n",
    "    age = current_year - birth_year - 1\n",
    "else:                                      # 현재월 == 생월\n",
    "    if current_day < birth_day:                # 현재일 < 생일\n",
    "        age = current_year - birth_year - 1\n",
    "    else:                                      # 현재일 >= 생일\n",
    "        age = current_year - birth_year\n",
    "        \n",
    "print(age)"
   ]
  },
  {
   "cell_type": "code",
   "execution_count": 8,
   "metadata": {},
   "outputs": [
    {
     "data": {
      "text/plain": [
       "datetime.datetime(2020, 8, 28, 20, 40, 11, 94626)"
      ]
     },
     "execution_count": 8,
     "metadata": {},
     "output_type": "execute_result"
    }
   ],
   "source": [
    "# 파이썬 datetime 모듈 활용\n",
    "import datetime\n",
    "datetime.datetime.now()"
   ]
  },
  {
   "cell_type": "code",
   "execution_count": 9,
   "metadata": {},
   "outputs": [
    {
     "data": {
      "text/plain": [
       "(2020, 8, 28)"
      ]
     },
     "execution_count": 9,
     "metadata": {},
     "output_type": "execute_result"
    }
   ],
   "source": [
    "current_year = datetime.datetime.now().year\n",
    "current_month = datetime.datetime.now().month\n",
    "current_day = datetime.datetime.now().day\n",
    "current_year, current_month, current_day"
   ]
  },
  {
   "cell_type": "code",
   "execution_count": 10,
   "metadata": {},
   "outputs": [
    {
     "name": "stdout",
     "output_type": "stream",
     "text": [
      "생일 6자리 숫자> 000430\n"
     ]
    },
    {
     "data": {
      "text/plain": [
       "(2000, 4, 30)"
      ]
     },
     "execution_count": 10,
     "metadata": {},
     "output_type": "execute_result"
    }
   ],
   "source": [
    "# 생일 6자리 숫자로 받아서 처리하기\n",
    "birthday = input('생일 6자리 숫자> ')   \n",
    "b_year = int(birthday[:2])\n",
    "if b_year <= 20:\n",
    "    b_year += 2000\n",
    "else:\n",
    "    b_year += 1900\n",
    "b_month = int(birthday[2:4])\n",
    "b_day = int(birthday[4:])\n",
    "b_year, b_month, b_day"
   ]
  },
  {
   "cell_type": "code",
   "execution_count": 11,
   "metadata": {},
   "outputs": [
    {
     "name": "stdout",
     "output_type": "stream",
     "text": [
      "생일 (6, 7, 8자리 숫자)> 19870929\n",
      "1987 9 29\n"
     ]
    }
   ],
   "source": [
    "# 생일 임의의 연속된 숫자로 받아서 처리하기\n",
    "birthday = input('생일 (6, 7, 8자리 숫자)> ')\n",
    "if len(birthday) == 6:\n",
    "    b_year = int(birthday[:2])\n",
    "    if b_year <= 20:\n",
    "        b_year += 2000\n",
    "    else:\n",
    "        b_year += 1900\n",
    "    b_month = int(birthday[2:4])\n",
    "    b_day = int(birthday[4:])\n",
    "elif len(birthday) == 7:\n",
    "    b_year = int(birthday[:2])\n",
    "    if int(birthday[-1]) > 2:\n",
    "        b_year += 2000\n",
    "    else:\n",
    "        b_year += 1900\n",
    "    b_month = int(birthday[2:4])\n",
    "    b_day = int(birthday[4:6])\n",
    "elif len(birthday) == 8:\n",
    "    b_year = int(birthday[:4])\n",
    "    b_month = int(birthday[4:6])\n",
    "    b_day = int(birthday[6:8])\n",
    "else:\n",
    "    print('6 ~ 8자리의 숫자를 입력하세요')\n",
    "    \n",
    "print(b_year, b_month, b_day)"
   ]
  },
  {
   "cell_type": "code",
   "execution_count": null,
   "metadata": {},
   "outputs": [],
   "source": []
  },
  {
   "cell_type": "code",
   "execution_count": null,
   "metadata": {},
   "outputs": [],
   "source": []
  },
  {
   "cell_type": "code",
   "execution_count": null,
   "metadata": {},
   "outputs": [],
   "source": []
  },
  {
   "cell_type": "code",
   "execution_count": null,
   "metadata": {},
   "outputs": [],
   "source": []
  },
  {
   "cell_type": "code",
   "execution_count": null,
   "metadata": {},
   "outputs": [],
   "source": []
  }
 ],
 "metadata": {
  "kernelspec": {
   "display_name": "Python 3",
   "language": "python",
   "name": "python3"
  },
  "language_info": {
   "codemirror_mode": {
    "name": "ipython",
    "version": 3
   },
   "file_extension": ".py",
   "mimetype": "text/x-python",
   "name": "python",
   "nbconvert_exporter": "python",
   "pygments_lexer": "ipython3",
   "version": "3.8.3"
  }
 },
 "nbformat": 4,
 "nbformat_minor": 4
}
